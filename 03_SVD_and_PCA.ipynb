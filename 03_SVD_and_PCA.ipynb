{
  "nbformat": 4,
  "nbformat_minor": 0,
  "metadata": {
    "colab": {
      "name": "Solutions of 03 SVD and PCA.ipynb",
      "provenance": []
    },
    "kernelspec": {
      "name": "python3",
      "display_name": "Python 3"
    }
  },
  "cells": [
    {
      "cell_type": "markdown",
      "metadata": {
        "id": "91WXEXkw-rwP"
      },
      "source": [
        "# Session 3: SVD and PCA"
      ]
    },
    {
      "cell_type": "markdown",
      "metadata": {
        "id": "AWleESoE-0cW"
      },
      "source": [
        "Welcome to Session 3 of the practical Machine Learning sessions. In this practical session, we'll understand and implement SVD and PCA, which stand for **Singlular Value Decomposition** and **Principal Component Analysis**. These two ideas are very similar, and have the same end goal. \r\n",
        "\r\n",
        "In this session, we'll only introduce ourselves to these concepts. The reason we won't go deep into these topics in this session itself, is because these topics have no practical application independently. They are used as a part of bigger models. So in this session we'll understand the concepts and intuition behind SVD and PCA, and later use it as a part of other Machine Learning projects. But yet, these topics deserve an entire session dedicated to themselves, because even though we cannot build a model using these topics, the idea behind them is quite important in Machine Learning, and its not totally self-intuitive. So the ideas do need a little bit of explanation. Also, we will still build interesting models using these concepts.\r\n",
        "\r\n",
        "As you know, these sessions are more practically-oriented than theoretically-oriented. So, we will not dive into most of the mathematics and theory behind the concepts, and only touch the information that is needed to build the code for our model. Our focus will be on understanding the functionality. You can find the exact innards of these concepts through a lot of online resources, and even the theory lectures of this course.\r\n",
        "\r\n",
        "So, Let us first understand what is the motivation behind these concepts, and then understand what SVD and PCA are. "
      ]
    },
    {
      "cell_type": "markdown",
      "metadata": {
        "id": "OAfFzw5NEg5b"
      },
      "source": [
        "# The Curse of Dimensionality\r\n",
        "\r\n",
        "Data, especially in recent times, often are of very high *dimensions*, or features. For example, satellite images sometimes contains thousands of bands of frequency spectrums, called *channels*, each of which is a separate feature. In Natural Language Processing (that is, the branch of AI that deals with Language understanding, for example, voice recognition (Siri, Google Assistant, Alexa), language to language translation, Sentiment Analysis (identifying hate speech, violence, etc)), words are represented as individual features. So if you wanted to model the entire English Language, you would be dealing with 1 million+ features. \r\n",
        "\r\n",
        "Infact, think of the amount of data that your phone generates. Modern phones have a lot of sensors, like Accelerometer, Gyroscope, Magnetometer, light sensor, biometric sensor, GPS sensor, etc., all of which generate data continuously and independently, which is eventually transmitted to the company, which it uses to provide various services. Similarly, Aeroplanes generate hundreds of biliions of gigabytes of data every year, in the form of multiple sensors and manually fed data. The list goes on and on. \r\n",
        "\r\n",
        "Now, ideally, the goal of any model is to understand the data completely, or in other words, extract *all* the information that the data can provide to us, and the utopian solution to this is to build a model over all the data available, including all features.\r\n",
        "\r\n",
        "But, practically, its not an efficient method to use all the data "
      ]
    },
    {
      "cell_type": "code",
      "metadata": {
        "id": "FLHzGjKl-SfU"
      },
      "source": [
        "import torch"
      ],
      "execution_count": 1,
      "outputs": []
    },
    {
      "cell_type": "code",
      "metadata": {
        "id": "ANXLeEVCTmuW"
      },
      "source": [
        "A= torch.rand((10,2))"
      ],
      "execution_count": 34,
      "outputs": []
    },
    {
      "cell_type": "code",
      "metadata": {
        "id": "RiJnOkPXTvHJ"
      },
      "source": [
        "u,s,v=torch.pca_lowrank(A,center=False)"
      ],
      "execution_count": 43,
      "outputs": []
    },
    {
      "cell_type": "code",
      "metadata": {
        "colab": {
          "base_uri": "https://localhost:8080/"
        },
        "id": "XId6gNA5Ty9Q",
        "outputId": "21b9b010-c995-4b09-f195-3d9ec35facb7"
      },
      "source": [
        "u.shape, s.shape, v.shape"
      ],
      "execution_count": 36,
      "outputs": [
        {
          "output_type": "execute_result",
          "data": {
            "text/plain": [
              "(torch.Size([10, 2]), torch.Size([2]), torch.Size([2, 2]))"
            ]
          },
          "metadata": {
            "tags": []
          },
          "execution_count": 36
        }
      ]
    },
    {
      "cell_type": "code",
      "metadata": {
        "id": "jkzLTGj6T_Ew"
      },
      "source": [
        "u1,s1,v1=torch.svd_lowrank(A)"
      ],
      "execution_count": 37,
      "outputs": []
    },
    {
      "cell_type": "code",
      "metadata": {
        "colab": {
          "base_uri": "https://localhost:8080/"
        },
        "id": "jSJnbu58UUVG",
        "outputId": "dfc25fe8-9ce2-4c87-ce8c-589a2fce1496"
      },
      "source": [
        "u"
      ],
      "execution_count": 18,
      "outputs": [
        {
          "output_type": "execute_result",
          "data": {
            "text/plain": [
              "tensor([[-0.3577,  0.1316],\n",
              "        [ 0.2309, -0.0058],\n",
              "        [ 0.0937, -0.4915],\n",
              "        [ 0.3151,  0.6912],\n",
              "        [-0.4855,  0.1157],\n",
              "        [ 0.0844, -0.4373],\n",
              "        [ 0.3858, -0.1735],\n",
              "        [-0.5298, -0.0116],\n",
              "        [ 0.1745,  0.1683],\n",
              "        [ 0.0887,  0.0130]])"
            ]
          },
          "metadata": {
            "tags": []
          },
          "execution_count": 18
        }
      ]
    },
    {
      "cell_type": "code",
      "metadata": {
        "colab": {
          "base_uri": "https://localhost:8080/"
        },
        "id": "LWNGWcAyUX2H",
        "outputId": "257b47ca-0d79-4d59-8d1d-afe2c5d877ea"
      },
      "source": [
        "u1"
      ],
      "execution_count": 19,
      "outputs": [
        {
          "output_type": "execute_result",
          "data": {
            "text/plain": [
              "tensor([[ 0.3830,  0.3136],\n",
              "        [ 0.2460, -0.2374],\n",
              "        [ 0.3272, -0.4082],\n",
              "        [ 0.1582,  0.0980],\n",
              "        [ 0.4171,  0.4068],\n",
              "        [ 0.3244, -0.3694],\n",
              "        [ 0.2225, -0.4584],\n",
              "        [ 0.4405,  0.3687],\n",
              "        [ 0.2438, -0.0916],\n",
              "        [ 0.2804, -0.1127]])"
            ]
          },
          "metadata": {
            "tags": []
          },
          "execution_count": 19
        }
      ]
    },
    {
      "cell_type": "code",
      "metadata": {
        "colab": {
          "base_uri": "https://localhost:8080/"
        },
        "id": "lmN3hYNzUYPt",
        "outputId": "6d5c764d-5122-4c44-bef4-9371fd056fbe"
      },
      "source": [
        "s"
      ],
      "execution_count": 20,
      "outputs": [
        {
          "output_type": "execute_result",
          "data": {
            "text/plain": [
              "tensor([0.9113, 0.4729])"
            ]
          },
          "metadata": {
            "tags": []
          },
          "execution_count": 20
        }
      ]
    },
    {
      "cell_type": "code",
      "metadata": {
        "colab": {
          "base_uri": "https://localhost:8080/"
        },
        "id": "eC3RX67SU38r",
        "outputId": "d3e7bfa9-982f-4f8e-d9be-d22f77a6830f"
      },
      "source": [
        "s1"
      ],
      "execution_count": 21,
      "outputs": [
        {
          "output_type": "execute_result",
          "data": {
            "text/plain": [
              "tensor([2.9020, 0.6642])"
            ]
          },
          "metadata": {
            "tags": []
          },
          "execution_count": 21
        }
      ]
    },
    {
      "cell_type": "code",
      "metadata": {
        "colab": {
          "base_uri": "https://localhost:8080/"
        },
        "id": "mQDS9JmQU4GT",
        "outputId": "8a64b34a-66aa-4bb2-e1bb-55411f70e2f9"
      },
      "source": [
        "v"
      ],
      "execution_count": 22,
      "outputs": [
        {
          "output_type": "execute_result",
          "data": {
            "text/plain": [
              "tensor([[-0.2747, -0.9615],\n",
              "        [-0.9615,  0.2747]])"
            ]
          },
          "metadata": {
            "tags": []
          },
          "execution_count": 22
        }
      ]
    },
    {
      "cell_type": "code",
      "metadata": {
        "colab": {
          "base_uri": "https://localhost:8080/"
        },
        "id": "KbiDz--wU6na",
        "outputId": "7c917e24-790b-4f69-f545-038388c2ac0a"
      },
      "source": [
        "v1"
      ],
      "execution_count": 23,
      "outputs": [
        {
          "output_type": "execute_result",
          "data": {
            "text/plain": [
              "tensor([[ 0.7845, -0.6202],\n",
              "        [ 0.6202,  0.7845]])"
            ]
          },
          "metadata": {
            "tags": []
          },
          "execution_count": 23
        }
      ]
    },
    {
      "cell_type": "code",
      "metadata": {
        "colab": {
          "base_uri": "https://localhost:8080/"
        },
        "id": "oC5rCD3aU66H",
        "outputId": "e1ca77c9-6142-4aa3-c246-ef5769c265f4"
      },
      "source": [
        "u@torch.diag(s)@v.T"
      ],
      "execution_count": 44,
      "outputs": [
        {
          "output_type": "execute_result",
          "data": {
            "text/plain": [
              "tensor([[0.1562, 0.2489],\n",
              "        [0.7874, 0.3799],\n",
              "        [0.9528, 0.9841],\n",
              "        [0.8291, 0.5549],\n",
              "        [0.7017, 0.8754],\n",
              "        [0.8887, 0.5054],\n",
              "        [0.7023, 0.8682],\n",
              "        [0.5082, 0.1849],\n",
              "        [0.5827, 0.0928],\n",
              "        [0.5316, 0.6022]])"
            ]
          },
          "metadata": {
            "tags": []
          },
          "execution_count": 44
        }
      ]
    },
    {
      "cell_type": "code",
      "metadata": {
        "colab": {
          "base_uri": "https://localhost:8080/"
        },
        "id": "lUDCQ8MUVEXk",
        "outputId": "60088c82-245e-4549-9617-48cb3b77f406"
      },
      "source": [
        "A"
      ],
      "execution_count": 39,
      "outputs": [
        {
          "output_type": "execute_result",
          "data": {
            "text/plain": [
              "tensor([[0.1562, 0.2489],\n",
              "        [0.7874, 0.3799],\n",
              "        [0.9528, 0.9841],\n",
              "        [0.8291, 0.5549],\n",
              "        [0.7017, 0.8754],\n",
              "        [0.8887, 0.5054],\n",
              "        [0.7023, 0.8682],\n",
              "        [0.5082, 0.1849],\n",
              "        [0.5827, 0.0928],\n",
              "        [0.5316, 0.6022]])"
            ]
          },
          "metadata": {
            "tags": []
          },
          "execution_count": 39
        }
      ]
    },
    {
      "cell_type": "code",
      "metadata": {
        "colab": {
          "base_uri": "https://localhost:8080/"
        },
        "id": "MbTBBfFiVT4v",
        "outputId": "cf6b6a40-77fe-40bf-9ceb-7e3f3fd1587e"
      },
      "source": [
        "u1@torch.diag(s1)@v1.T"
      ],
      "execution_count": 40,
      "outputs": [
        {
          "output_type": "execute_result",
          "data": {
            "text/plain": [
              "tensor([[0.1562, 0.2489],\n",
              "        [0.7874, 0.3799],\n",
              "        [0.9528, 0.9841],\n",
              "        [0.8291, 0.5549],\n",
              "        [0.7017, 0.8754],\n",
              "        [0.8887, 0.5054],\n",
              "        [0.7023, 0.8682],\n",
              "        [0.5082, 0.1849],\n",
              "        [0.5827, 0.0928],\n",
              "        [0.5316, 0.6022]])"
            ]
          },
          "metadata": {
            "tags": []
          },
          "execution_count": 40
        }
      ]
    },
    {
      "cell_type": "code",
      "metadata": {
        "id": "j9ScVWDlWJiF"
      },
      "source": [
        ""
      ],
      "execution_count": null,
      "outputs": []
    }
  ]
}